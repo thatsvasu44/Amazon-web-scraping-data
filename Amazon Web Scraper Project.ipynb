{
 "cells": [
  {
   "cell_type": "code",
   "execution_count": 1,
   "id": "0d3e326b-7de6-487a-b2e5-940b5e7ee1a4",
   "metadata": {},
   "outputs": [],
   "source": [
    "#import libraries\n",
    "\n",
    "from bs4 import BeautifulSoup\n",
    "import requests\n",
    "import time \n",
    "import datetime\n",
    "\n",
    "import smtplib"
   ]
  },
  {
   "cell_type": "code",
   "execution_count": 17,
   "id": "57d0bf99-a366-4080-8b15-59c6f6c2c809",
   "metadata": {},
   "outputs": [
    {
     "name": "stdout",
     "output_type": "stream",
     "text": [
      "\n",
      "                    Ruby Fabrics Linings Rise & Grind Half Sleeve T-Shirt for Men's (Medium) White\n",
      "                   \n",
      "\n",
      "                    ₹329.00 with 34 percent savings\n",
      "                   \n"
     ]
    }
   ],
   "source": [
    "#connect website and pull data\n",
    "\n",
    "URL = 'https://www.amazon.in/Ruby-Fabrics-Linings-Sleeve-T-Shirt/dp/B08HQY3CJX?crid=1GD4CEED0EIIU&dib=eyJ2IjoiMSJ9.BVWKUQbti7w2nGQ6rjjhQH9Povy36JqY-tdXIh_VX5cHHOS5PP3LVjNa23Uv3dH9Nc_7vhytpi4h5G-oFCSXmnVmoehvb6ETgovOq937taoGME0jQDhZPHHqzPssjoQAWVvvMnzt_u7xtTwsG5b99kKfGE1RJ5K5S9h5d8iUkB_N1iOMxgO29V_K_usRdo1IzoSCvKxgFk7y8D98Z_WiSOQUbMqySHR8Dy1n5FqaTzAQRVUTD656hcMhj5uOvoS2LmVbF3U8j7UkMxcQ5oJnWcgBwTa-4eshK5iqqAZ4sIEM-9A7-0Wz8MTdI34Q9mjXuzYfWs2IL5qdQddluvkmKcrEMAFLyFPrXxTfEfF6txUor4Xyp6TvXHp_M3nYsKn27-bzq-976-xiY1kfHQXKnfvUId1QwQR5UB13UvZFLi2UyJsXXrGW_goHnUqNGHxV.Ws4hmj72Bvwm9i8UevFyZulpGf9ZQCP1sfvpqXfovDo&dib_tag=se&keywords=grind+motivation+tshirt&qid=1742460971&sprefix=grind+motivation+tshirt%2Caps%2C228&sr=8-3'\n",
    "\n",
    "headers = {\"User-Agent\": \"Mozilla/5.0 (Windows NT 10.0; Win64; x64) AppleWebKit/537.36 (KHTML, like Gecko) Chrome/134.0.0.0 Safari/537.36 Edg/134.0.0.0\", \"Accept-Encoding\":\"gzip, deflate\", \"Accept\":\"text/html,application/xhtml+xml,application/xml;q=0.9,*/*;q=0.8\", \"DNT\":\"1\",\"Connection\":\"close\", \"Upgrade-Insecure-Requests\":\"1\"}\n",
    "\n",
    "page= requests.get(URL, headers=headers)\n",
    "\n",
    "soup1=BeautifulSoup(page.content, 'html.parser')\n",
    "\n",
    "soup2=BeautifulSoup(soup1.prettify(), 'html.parser')\n",
    "\n",
    "title=soup2.find(id= 'productTitle').get_text()\n",
    "\n",
    "price = soup2.find('span', class_='aok-offscreen').get_text()\n",
    "\n",
    "\n",
    "print(title)\n",
    "\n",
    "print(price)\n",
    "\n",
    "\n",
    "\n",
    "\n",
    "\n",
    "\n",
    "\n",
    "\n",
    "\n",
    "\n"
   ]
  },
  {
   "cell_type": "code",
   "execution_count": 19,
   "id": "9cbfda45-0418-4fb8-814c-4e394dbad852",
   "metadata": {},
   "outputs": [
    {
     "name": "stdout",
     "output_type": "stream",
     "text": [
      "Ruby Fabrics Linings Rise & Grind Half Sleeve T-Shirt for Men's (Medium) White\n",
      "329.00\n"
     ]
    }
   ],
   "source": [
    "price= price.strip()[1:7]\n",
    "title= title.strip()\n",
    "\n",
    "print(title)\n",
    "print(price)"
   ]
  },
  {
   "cell_type": "code",
   "execution_count": 23,
   "id": "f255cb43-1137-472c-8d3e-371598aabc50",
   "metadata": {},
   "outputs": [
    {
     "name": "stdout",
     "output_type": "stream",
     "text": [
      "2025-03-20\n"
     ]
    }
   ],
   "source": [
    "import datetime\n",
    "\n",
    "today=datetime.date.today()\n",
    "\n",
    "print(today)"
   ]
  },
  {
   "cell_type": "code",
   "execution_count": 25,
   "id": "97953bf8-ad8b-412e-9ca8-599309234c52",
   "metadata": {},
   "outputs": [],
   "source": [
    "import csv\n",
    "\n",
    "header=['Title', 'Price', 'Date']\n",
    "data= [title, price, today]\n",
    "\n",
    "#with open ('AmazonWebScraperData.csv','w',newline='', encoding='UTF8') as f:\n",
    "   # writer=csv.writer(f)\n",
    "    #writer.writerow(header)\n",
    "    w#riter.writerow(data)\n",
    "\n"
   ]
  },
  {
   "cell_type": "code",
   "execution_count": 34,
   "id": "d0a93b8f-c878-4dce-9729-8e0c5c87e94d",
   "metadata": {},
   "outputs": [
    {
     "name": "stdout",
     "output_type": "stream",
     "text": [
      "                                               Title  Price        Date\n",
      "0  Ruby Fabrics Linings Rise & Grind Half Sleeve ...  329.0  2025-03-20\n",
      "1  Ruby Fabrics Linings Rise & Grind Half Sleeve ...  329.0  2025-03-20\n",
      "2  Ruby Fabrics Linings Rise & Grind Half Sleeve ...  329.0  2025-03-20\n"
     ]
    }
   ],
   "source": [
    "import pandas as pd\n",
    "\n",
    "df=pd.read_csv(r\"C:\\Users\\Vasudev Sharma\\Desktop\\Projects\\AmazonWebScraperData.csv\")\n",
    "print(df)"
   ]
  },
  {
   "cell_type": "code",
   "execution_count": 32,
   "id": "f9718b22-8fbe-4c47-a096-69054d80c4e3",
   "metadata": {},
   "outputs": [],
   "source": [
    "#appending data to csv\n",
    "\n",
    "with open ('AmazonWebScraperData.csv','a+',newline='', encoding='UTF8') as f:\n",
    "    writer=csv.writer(f)\n",
    "    writer.writerow(data)"
   ]
  },
  {
   "cell_type": "code",
   "execution_count": 36,
   "id": "2e18a53f-fed3-48e0-8c99-7d50ff30dfa6",
   "metadata": {},
   "outputs": [],
   "source": [
    "def check_price():\n",
    "    URL = 'https://www.amazon.in/Ruby-Fabrics-Linings-Sleeve-T-Shirt/dp/B08HQY3CJX?crid=1GD4CEED0EIIU&dib=eyJ2IjoiMSJ9.BVWKUQbti7w2nGQ6rjjhQH9Povy36JqY-tdXIh_VX5cHHOS5PP3LVjNa23Uv3dH9Nc_7vhytpi4h5G-oFCSXmnVmoehvb6ETgovOq937taoGME0jQDhZPHHqzPssjoQAWVvvMnzt_u7xtTwsG5b99kKfGE1RJ5K5S9h5d8iUkB_N1iOMxgO29V_K_usRdo1IzoSCvKxgFk7y8D98Z_WiSOQUbMqySHR8Dy1n5FqaTzAQRVUTD656hcMhj5uOvoS2LmVbF3U8j7UkMxcQ5oJnWcgBwTa-4eshK5iqqAZ4sIEM-9A7-0Wz8MTdI34Q9mjXuzYfWs2IL5qdQddluvkmKcrEMAFLyFPrXxTfEfF6txUor4Xyp6TvXHp_M3nYsKn27-bzq-976-xiY1kfHQXKnfvUId1QwQR5UB13UvZFLi2UyJsXXrGW_goHnUqNGHxV.Ws4hmj72Bvwm9i8UevFyZulpGf9ZQCP1sfvpqXfovDo&dib_tag=se&keywords=grind+motivation+tshirt&qid=1742460971&sprefix=grind+motivation+tshirt%2Caps%2C228&sr=8-3'\n",
    "\n",
    "    headers = {\"User-Agent\": \"Mozilla/5.0 (Windows NT 10.0; Win64; x64) AppleWebKit/537.36 (KHTML, like Gecko) Chrome/134.0.0.0 Safari/537.36 Edg/134.0.0.0\", \"Accept-Encoding\":\"gzip, deflate\", \"Accept\":\"text/html,application/xhtml+xml,application/xml;q=0.9,*/*;q=0.8\", \"DNT\":\"1\",\"Connection\":\"close\", \"Upgrade-Insecure-Requests\":\"1\"}\n",
    "\n",
    "    page= requests.get(URL, headers=headers)\n",
    "\n",
    "    soup1=BeautifulSoup(page.content, 'html.parser')\n",
    "\n",
    "    soup2=BeautifulSoup(soup1.prettify(), 'html.parser')\n",
    "\n",
    "    title=soup2.find(id= 'productTitle').get_text()\n",
    "\n",
    "    price = soup2.find('span', class_='aok-offscreen').get_text()\n",
    "\n",
    "    price= price.strip()[1:7]\n",
    "    title= title.strip()\n",
    "    \n",
    "    import datetime\n",
    "\n",
    "    today=datetime.date.today()\n",
    "    import csv\n",
    "\n",
    "    header=['Title', 'Price', 'Date']\n",
    "    data= [title, price, today]\n",
    "    with open ('AmazonWebScraperData.csv','a+',newline='', encoding='UTF8') as f:\n",
    "          writer=csv.writer(f)\n",
    "          writer.writerow(data)\n",
    "\n",
    "    "
   ]
  },
  {
   "cell_type": "code",
   "execution_count": null,
   "id": "fc573ccc-864d-4161-9a00-cee03c9ad266",
   "metadata": {},
   "outputs": [],
   "source": [
    "#running autoamtically for 1day for checking the price of the tshirt\n",
    "while(True):\n",
    "    check_price()\n",
    "    time.sleep(86400)"
   ]
  },
  {
   "cell_type": "code",
   "execution_count": 40,
   "id": "78246212-0ec5-416f-bffd-57da7ecf2c6c",
   "metadata": {},
   "outputs": [
    {
     "name": "stdout",
     "output_type": "stream",
     "text": [
      "                                               Title  Price        Date\n",
      "0  Ruby Fabrics Linings Rise & Grind Half Sleeve ...  329.0  2025-03-20\n",
      "1  Ruby Fabrics Linings Rise & Grind Half Sleeve ...  329.0  2025-03-20\n",
      "2  Ruby Fabrics Linings Rise & Grind Half Sleeve ...  329.0  2025-03-20\n",
      "3  Ruby Fabrics Linings Rise & Grind Half Sleeve ...  329.0  2025-03-20\n",
      "4  Ruby Fabrics Linings Rise & Grind Half Sleeve ...  329.0  2025-03-20\n"
     ]
    }
   ],
   "source": [
    "import pandas as pd\n",
    "\n",
    "df=pd.read_csv(r\"C:\\Users\\Vasudev Sharma\\Desktop\\Projects\\AmazonWebScraperData.csv\")\n",
    "print(df)"
   ]
  },
  {
   "cell_type": "code",
   "execution_count": null,
   "id": "43bbf89c-3f0b-42ff-9320-2da1a5bc917b",
   "metadata": {},
   "outputs": [],
   "source": []
  }
 ],
 "metadata": {
  "kernelspec": {
   "display_name": "Python 3 (ipykernel)",
   "language": "python",
   "name": "python3"
  },
  "language_info": {
   "codemirror_mode": {
    "name": "ipython",
    "version": 3
   },
   "file_extension": ".py",
   "mimetype": "text/x-python",
   "name": "python",
   "nbconvert_exporter": "python",
   "pygments_lexer": "ipython3",
   "version": "3.12.7"
  }
 },
 "nbformat": 4,
 "nbformat_minor": 5
}
